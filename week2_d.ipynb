{
  "nbformat": 4,
  "nbformat_minor": 0,
  "metadata": {
    "colab": {
      "provenance": [],
      "mount_file_id": "1AljTnNFFd-LqyPtNavXSptUKMlXGNg2c",
      "authorship_tag": "ABX9TyNpDX5erZpJ9Xgxn8M8EVe8",
      "include_colab_link": true
    },
    "kernelspec": {
      "name": "python3",
      "display_name": "Python 3"
    },
    "language_info": {
      "name": "python"
    }
  },
  "cells": [
    {
      "cell_type": "markdown",
      "metadata": {
        "id": "view-in-github",
        "colab_type": "text"
      },
      "source": [
        "<a href=\"https://colab.research.google.com/github/seeun7/computer/blob/main/week2_d.ipynb\" target=\"_parent\"><img src=\"https://colab.research.google.com/assets/colab-badge.svg\" alt=\"Open In Colab\"/></a>"
      ]
    },
    {
      "cell_type": "markdown",
      "source": [
        "1. 프린트"
      ],
      "metadata": {
        "id": "NmDIwi38XdPk"
      }
    },
    {
      "cell_type": "code",
      "execution_count": 1,
      "metadata": {
        "colab": {
          "base_uri": "https://localhost:8080/"
        },
        "id": "hdUgl5EwRAmY",
        "outputId": "0f5e7382-11fc-4066-9105-e98597456302"
      },
      "outputs": [
        {
          "output_type": "stream",
          "name": "stdout",
          "text": [
            "Hello, world\n",
            "정수 : 3, 03, 003, 0003, 00003\n",
            "실수 : 256, 256.1, 256.12\n",
            "문자열: [Hello, World]\n"
          ]
        }
      ],
      "source": [
        "print(\"Hello, world\")\n",
        "\n",
        "x= 3\n",
        "print (\"정수 : %01d, %02d, %03d, %04d, %05d\" %(x,x,x,x,x))\n",
        "\n",
        "x = 256.123\n",
        "print(\"실수 : %.0f, %.1f, %.2f\"%(x,x,x))\n",
        "\n",
        "x= \"Hello, World\"\n",
        "print(\"문자열: [%s]\" %(x))"
      ]
    },
    {
      "cell_type": "markdown",
      "source": [
        "2.반복문, 조건문"
      ],
      "metadata": {
        "id": "WrOuDonmWuhR"
      }
    },
    {
      "cell_type": "code",
      "source": [
        "contents= [\"Regression\", \"Classification\", \"SYM\", \"Clustering\", \"Dimension reduction\", \"MN\", \"CNN\", \"AE\", \"GAN\", \"RUN\"]\n",
        "for con in contents:\n",
        "  if con in [\"Regression\", \"Classification\", \"SYM\", \"Clustering\", \"Dimension reduction\"] :\n",
        "    print(\"%s은(는) 기계학습 내용입니다.\"%con)\n",
        "  elif con in [\"CNN\"] :\n",
        "    print (\"%s 은(는) convolutional neural network입니다.\" %con)\n",
        "  else:\n",
        "    print(\"%s 은(는) 심층학습 내용입니다.\" %con)"
      ],
      "metadata": {
        "colab": {
          "base_uri": "https://localhost:8080/"
        },
        "id": "WoWKbmazYV9k",
        "outputId": "e88102e6-06c2-43ee-f393-909010dbee53"
      },
      "execution_count": 3,
      "outputs": [
        {
          "output_type": "stream",
          "name": "stdout",
          "text": [
            "Regression은(는) 기계학습 내용입니다.\n",
            "Classification은(는) 기계학습 내용입니다.\n",
            "SYM은(는) 기계학습 내용입니다.\n",
            "Clustering은(는) 기계학습 내용입니다.\n",
            "Dimension reduction은(는) 기계학습 내용입니다.\n",
            "MN 은(는) 심층학습 내용입니다.\n",
            "CNN 은(는) convolutional neural network입니다.\n",
            "AE 은(는) 심층학습 내용입니다.\n",
            "GAN 은(는) 심층학습 내용입니다.\n",
            "RUN 은(는) 심층학습 내용입니다.\n"
          ]
        }
      ]
    },
    {
      "cell_type": "markdown",
      "source": [
        "3. 반복문과 인덱스"
      ],
      "metadata": {
        "id": "QKV6KpeMZZs-"
      }
    },
    {
      "cell_type": "code",
      "source": [
        "for (i,con) in enumerate(contents) :\n",
        "  print(\"[%d/%d]: %s\"%(i, len(contents), con))"
      ],
      "metadata": {
        "colab": {
          "base_uri": "https://localhost:8080/"
        },
        "id": "uOHuW4KuZvoD",
        "outputId": "35b741be-8d0f-40f6-cdcc-e85e97795a4f"
      },
      "execution_count": 4,
      "outputs": [
        {
          "output_type": "stream",
          "name": "stdout",
          "text": [
            "[0/10]: Regression\n",
            "[1/10]: Classification\n",
            "[2/10]: SYM\n",
            "[3/10]: Clustering\n",
            "[4/10]: Dimension reduction\n",
            "[5/10]: MN\n",
            "[6/10]: CNN\n",
            "[7/10]: AE\n",
            "[8/10]: GAN\n",
            "[9/10]: RUN\n"
          ]
        }
      ]
    },
    {
      "cell_type": "markdown",
      "source": [
        "4.함수"
      ],
      "metadata": {
        "id": "NrDcrv41Z9-T"
      }
    },
    {
      "cell_type": "code",
      "source": [
        "def sum(a,b):\n",
        "  return a+b\n",
        "\n",
        "x=10.0\n",
        "y=20.0\n",
        "print(\"%.1f + %.1f = %.1f\" %(x, y, sum(x,y)))"
      ],
      "metadata": {
        "colab": {
          "base_uri": "https://localhost:8080/"
        },
        "id": "oHX_wKrVaEwl",
        "outputId": "a0c10e47-2b92-4571-ed1e-4b17d84a7013"
      },
      "execution_count": 5,
      "outputs": [
        {
          "output_type": "stream",
          "name": "stdout",
          "text": [
            "10.0 + 20.0 = 30.0\n"
          ]
        }
      ]
    },
    {
      "cell_type": "markdown",
      "source": [
        "5.리스트"
      ],
      "metadata": {
        "id": "D3lpy8ACaUtj"
      }
    },
    {
      "cell_type": "code",
      "source": [
        "a=[]\n",
        "b=[1,2,3]\n",
        "c=[\"Hello\", \",\", \"World\"]\n",
        "d= [1,2,3,\"x\",\"y\",\"z\"]\n",
        "x= []\n",
        "print(x)\n",
        "\n",
        "x.append('a')\n",
        "print(x)\n",
        "\n",
        "x.append(123)\n",
        "print(x)\n",
        "\n",
        "x.append([\"a\", \"b\"])\n",
        "print(x)"
      ],
      "metadata": {
        "colab": {
          "base_uri": "https://localhost:8080/"
        },
        "id": "wEPTINcqaYbt",
        "outputId": "f79bf0dd-d14f-418d-f19d-25fcf3b65978"
      },
      "execution_count": 6,
      "outputs": [
        {
          "output_type": "stream",
          "name": "stdout",
          "text": [
            "[]\n",
            "['a']\n",
            "['a', 123]\n",
            "['a', 123, ['a', 'b']]\n"
          ]
        }
      ]
    },
    {
      "cell_type": "markdown",
      "source": [
        "6. 딕셔너리(dictionary)"
      ],
      "metadata": {
        "id": "32JiASx-a0f4"
      }
    },
    {
      "cell_type": "code",
      "source": [
        "dic=dict()\n",
        "dic[\"name\"]= \"Dongmin\"\n",
        "dic[\"town\"] = \"changnyeong\"\n",
        "dic[\"job\"] = \"student\"\n",
        "print(dic)"
      ],
      "metadata": {
        "colab": {
          "base_uri": "https://localhost:8080/"
        },
        "id": "fUYL6lNta3oa",
        "outputId": "53ca6ce1-2c17-4c29-aa4d-b46fc61446b9"
      },
      "execution_count": 8,
      "outputs": [
        {
          "output_type": "stream",
          "name": "stdout",
          "text": [
            "{'name': 'Dongmin', 'town': 'changnyeong', 'job': 'student'}\n"
          ]
        }
      ]
    },
    {
      "cell_type": "markdown",
      "source": [
        "7. 클래스"
      ],
      "metadata": {
        "id": "Nn1tgFGFbNXb"
      }
    },
    {
      "cell_type": "code",
      "source": [
        "class Student:\n",
        "  def __init__(self, name):\n",
        "    self.name =name\n",
        "  def study(self, hard=False):\n",
        "    if hard:\n",
        "      print(\"%s 학생은 열심히 공부합니다.\" %self.name)\n",
        "    else:\n",
        "      print(\"%s 학생은 공부합니다.\" %self.name)\n",
        "\n",
        "s=Student('Dongmin')\n",
        "s.study()\n",
        "s.study(hard=True)"
      ],
      "metadata": {
        "colab": {
          "base_uri": "https://localhost:8080/"
        },
        "id": "LLjVzyxgbUIz",
        "outputId": "29bd54d9-93d4-41f2-da39-7b84664a6190"
      },
      "execution_count": 12,
      "outputs": [
        {
          "output_type": "stream",
          "name": "stdout",
          "text": [
            "Dongmin 학생은 공부합니다.\n",
            "Dongmin 학생은 열심히 공부합니다.\n"
          ]
        }
      ]
    }
  ]
}